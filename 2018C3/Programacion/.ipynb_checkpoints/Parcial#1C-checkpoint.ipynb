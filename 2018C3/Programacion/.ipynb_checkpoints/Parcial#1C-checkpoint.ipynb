{
 "cells": [
  {
   "cell_type": "markdown",
   "metadata": {},
   "source": [
    " <h3 style = \"text-align:left\">Part C: Finding the right amount to save away</h3>\n",
    "    <p style= \"text-align:justify\">In Part B, you had a chance to explore how both \n",
    "    the percentage of your salary that you save each month and your annual raise affect \n",
    "    how long it takes you to save for a down payment. This is nice, but suppose you want \n",
    "    to set a particular goal, e.g. to be able to afford the down payment in three years. \n",
    "    How much should you save each month to achieve this? In this problem, you are going to \n",
    "    write a program to answer that question. To simplify things, assume:\n",
    "    1.Your semiannual raise is .07 (7%) \n",
    "    2.Your investments have an annual return of 0.04 (4%) \n",
    "    3.The down payment is 0.25 (25%) of the cost of the house \n",
    "    4.The cost of the house that you are saving for is $1M . \n",
    "    You are now going to try to find the best rate of savings to achieve a down payment on\n",
    "    a $1M house in 36 months. Since hitting this exactly is a challenge, we simply want \n",
    "    your savings to be within $100 of the required down payment.</p>\n",
    "</body>"
   ]
  },
  {
   "cell_type": "code",
   "execution_count": 5,
   "metadata": {},
   "outputs": [
    {
     "name": "stdout",
     "output_type": "stream",
     "text": [
      "Lowest Payment:  12730.05\n"
     ]
    }
   ],
   "source": [
    "##Predefined Variables\n",
    "\n",
    "down_payment=0.25\n",
    "monthly_interest = 0.04/12\n",
    "total_savings = 0\n",
    "months = 0\n",
    "semi_raise = 0.07\n",
    "cost_of_dream = 1000000\n",
    "down_payment*= cost_of_dream\n",
    "print(\"How much money do you make in a year?\")\n",
    "salary = input()\n",
    "salary= int(salary)\n",
    "print(\"Enter the percent of your salary to save, as a decimal\")\n",
    "monthly_savings = input()\n",
    "monthly_savings= float(monthly_savings)\n",
    "monthly_savings *= (salary/12) \n",
    "\n",
    "while total_savings < down_payment:\n",
    "    interest_saved =  total_savings*monthly_interest\n",
    "    total_savings += interest_saved + monthly_savings\n",
    "    months+=1\n",
    "    if months%6 == 0:\n",
    "        monthly_savings *= (1+semi_raise) \n",
    "print(\"It will take %d months\" %months)\n",
    "\n",
    "\n",
    "months = 36\n",
    "epsilon = 0.01\n",
    "num_guesses = 0\n",
    "low = 0\n",
    "high = monthly_savings\n",
    "guess = (high + low)/2.0\n",
    "while abs(guess - cube) >= epsilon:\n",
    "if guess < cube :\n",
    "low = guess\n",
    "else:\n",
    "high = guess\n",
    "guess = (high + low)/2.0\n",
    "num_guesses += 1\n",
    "print 'num_guesses =', num_guesses\n",
    "print guess, 'is close to the cube root of', cube\n",
    "\n",
    "'''\n",
    "def annualPaymentBisection(balance, annualInterestRate):\n",
    "    '''\n",
    "    Find the minimum fixed monthly payment needed in order pay off a credit card balance within 12 months with bisection method\n",
    "    :param balance: Outstanding balance on the credit card\n",
    "    :param annualInterestRate: Annual interest rate (as decimal, e.g. 0.08)\n",
    "    :return: Minimum fixed monthly payment\n",
    "    '''\n",
    "    monthlyInterestRate = annualInterestRate / 12.0\n",
    "    precision = 0.01\n",
    "    low = balance/12.0\n",
    "    high = (balance * (1 + monthlyInterestRate)**12)/12.0\n",
    "    monthlyPayment = (low+high)/2\n",
    "\n",
    "    while True:\n",
    "        monthlyBalance = balance\n",
    "        totalDuePayment = balance\n",
    "        for month in range(1, 13):\n",
    "            monthlyUnpaidBalance = monthlyBalance - monthlyPayment\n",
    "            interest = (monthlyBalance - monthlyPayment) * monthlyInterestRate\n",
    "            totalDuePayment += interest\n",
    "            monthlyBalance = monthlyUnpaidBalance + interest\n",
    "        if abs(totalDuePayment-monthlyPayment*12) < precision:\n",
    "            break\n",
    "        elif totalDuePayment < monthlyPayment*12:\n",
    "            high = monthlyPayment\n",
    "        else:\n",
    "            low = monthlyPayment\n",
    "        monthlyPayment = (low+high)/2\n",
    "\n",
    "    return monthlyPayment\n",
    "'''"
   ]
  },
  {
   "cell_type": "code",
   "execution_count": null,
   "metadata": {},
   "outputs": [],
   "source": []
  }
 ],
 "metadata": {
  "kernelspec": {
   "display_name": "Python 3",
   "language": "python",
   "name": "python3"
  },
  "language_info": {
   "codemirror_mode": {
    "name": "ipython",
    "version": 3
   },
   "file_extension": ".py",
   "mimetype": "text/x-python",
   "name": "python",
   "nbconvert_exporter": "python",
   "pygments_lexer": "ipython3",
   "version": "3.6.5"
  }
 },
 "nbformat": 4,
 "nbformat_minor": 2
}
