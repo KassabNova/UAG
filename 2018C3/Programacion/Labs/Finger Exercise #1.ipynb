{
 "cells": [
  {
   "cell_type": "markdown",
   "metadata": {},
   "source": [
    "<body>\n",
    "    <h1 style=\"text-align:center\">Programación Avanzada II</h1>\n",
    "    <h2 style=\"text-align:center\">Finger Exercise #1</h2>\n",
    "    <h4 style=\"display:inline-block; \">Carlos Kassab André 3236558 </h4>\n",
    "    <h4 style=\"display:block; float:right\" >September 29th, 2018 </h4>\n",
    "    <p style = \"text-align: justify\">In this notebook I will be showing what we learned during the finger exercise #1 in my programming     course. \n",
    "    <br>Please check my Github for more of these: https://github.com/KassabNova/UAG\n",
    "    <br><br>\n",
    "    The finger exercise #1 is taken from chapter two in the \n",
    "    <a href=\"https://ocw.mit.edu/courses/electrical-engineering-and-computer-science/6-0001-introduction-to-computer-science-and-programming-in-python-fall-2016/index.html\">MIT OpenCourseware </a> Book\n",
    "    <br>\n",
    "    Here is the problem instruction\n",
    "    <h4>#1.1</h4>\n",
    "    <br>\n",
    "    Write a program that examines three variables— x , y , and z —\n",
    "and prints the largest odd number among them. If none of them are odd, it\n",
    "should print a message to that effect.\n",
    "    <p>\n",
    "\n",
    "</body>"
   ]
  },
  {
   "cell_type": "code",
   "execution_count": 11,
   "metadata": {},
   "outputs": [
    {
     "name": "stdout",
     "output_type": "stream",
     "text": [
      "Z was the bigger one: 3\n"
     ]
    }
   ],
   "source": [
    "x = 1\n",
    "y = 2\n",
    "z = 3\n",
    "\n",
    "if x%2==0 and y%2==0 and z%2==0:\n",
    "\n",
    "    print (\"No odd numbers!\")\n",
    "    \n",
    "elif  x%2!=0 and y%2==0 and z%2==0:\n",
    "    print (\"X was the only odd one: \", x)\n",
    "elif  x%2==0 and y%2!=0 and z%2==0:\n",
    "    print (\"Y was the only odd one: \", y)\n",
    "elif  x%2==0 and y%2==0 and z%2!=0:\n",
    "    print (\"Z was the only odd one: \", z)\n",
    "else:\n",
    "    if x>y and x>z and x%2!=0:\n",
    "        print (\"X was the bigger one:\", x)\n",
    "    elif y>z and y>x and y%2!=0:\n",
    "        print (\"Y was the bigger one:\", y)\n",
    "    elif z>x and z>y and z%2!=0:\n",
    "        print (\"Z was the bigger one:\", z)\n",
    "\n",
    "\n",
    "\n",
    "        \n",
    "\n"
   ]
  },
  {
   "cell_type": "markdown",
   "metadata": {},
   "source": [
    "<h4>#1.2</h4>\n",
    "<p style = \"text-align: justify\">\n",
    "Write a program that asks the user to input 10 integers, and\n",
    "then prints the largest odd number that was entered. If no odd number was\n",
    "entered, it should print a message to that effect.\n",
    "<p>\n"
   ]
  },
  {
   "cell_type": "code",
   "execution_count": 10,
   "metadata": {},
   "outputs": [
    {
     "name": "stdout",
     "output_type": "stream",
     "text": [
      "No odd #s\n"
     ]
    }
   ],
   "source": [
    "\n",
    "Max = None  \n",
    "for i in range(0,11,2):\n",
    "    #i= int(input())\n",
    "    if i%2 != 0:\n",
    "        if i > Max:\n",
    "            Max = i\n",
    "if Max == None:\n",
    "    print (\"No odd #s\")\n",
    "else:\n",
    "    print (\"Biggest Odd #: \", Max)\n",
    "    "
   ]
  }
 ],
 "metadata": {
  "kernelspec": {
   "display_name": "Python 3",
   "language": "python",
   "name": "python3"
  },
  "language_info": {
   "codemirror_mode": {
    "name": "ipython",
    "version": 3
   },
   "file_extension": ".py",
   "mimetype": "text/x-python",
   "name": "python",
   "nbconvert_exporter": "python",
   "pygments_lexer": "ipython3",
   "version": "3.6.5"
  }
 },
 "nbformat": 4,
 "nbformat_minor": 2
}
