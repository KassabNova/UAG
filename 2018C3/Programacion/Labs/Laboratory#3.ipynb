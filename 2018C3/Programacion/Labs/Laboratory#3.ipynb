{
 "cells": [
  {
   "cell_type": "markdown",
   "metadata": {},
   "source": [
    "<body>\n",
    "    <h1 style=\"text-align:center\">Programación Avanzada II</h1>\n",
    "    <h2 style=\"text-align:center\">Laboratory #3</h2>\n",
    "    <h4 style=\"display:inline-block; \">Carlos Kassab André 3236558 </h4>\n",
    "    <h4 style=\"display:block; float:right\" >September 24th, 2018 </h4>\n",
    "    <p style = \"text-align: justify\">In this notebook I will be showing what we learned during the lecture #3 in my programming     course. Please check my Github for more of these: https://github.com/KassabNova/UAG<br>\n",
    "    The lecture continued from last class on more advanced string manipulations, approximate solutions and bisection search.  \n",
    "    <br>\n",
    "    <h4>Advanced String Manipulation</h4>\n",
    "    The very first thing the slides explain is the len() function, that returns a string length. And then something that I liked about python: negative indexing!<br>\n",
    "    It's possible to use a negative index inside a string's brackets to go in 'reverse'. What I mean by that is that string[-1] will evaluate to the last char and string[-2] will evaluate to the last char -1.\n",
    "    The string slicing is made with the [start:stop:step], where the default start will be 0, the stop will be the string's length, and the step will be 1.\n",
    "    A VERY VERY IMPORTANT thing in strings, when manipulating them, is that they are immutable and can't be modified.<br>\n",
    "    Strings and loops go hand by hand, and as seen in the example below, you can nest iterations through more than one string.\n",
    "    <p>\n",
    "    \n",
    "</body>"
   ]
  },
  {
   "cell_type": "code",
   "execution_count": 4,
   "metadata": {},
   "outputs": [
    {
     "name": "stdout",
     "output_type": "stream",
     "text": [
      "common letter: m\n",
      "common letter: i\n",
      "common letter: t\n",
      "common letter:  \n",
      "common letter: u\n",
      "common letter:  \n",
      "common letter: r\n"
     ]
    }
   ],
   "source": [
    "s1 = \"mit u rock\"\n",
    "s2 = \"i rule mit\"\n",
    "if len(s1) == len(s2):\n",
    "    for char1 in s1:\n",
    "        for char2 in s2:\n",
    "            if char1 == char2:\n",
    "                print(\"common letter:\", char1)\n",
    "                break"
   ]
  },
  {
   "cell_type": "markdown",
   "metadata": {},
   "source": [
    "\n",
    "\n",
    "<h4>Guess and Check/Spray and Pray</h4>\n",
    "<p style = \"text-align: justify\">\n",
    "The approximate solutions to finding the perfect cube of a number was the next slide. It was about finding a good enough solution and making guesses until we found an aswer <br><br>\n",
    "\n",
    "Of course this is not an efficient solution, which is what we as software developers wish to achieve. Nonetheless, it works because the computer is fast enough to do really fast calculations and we don't have to worry about doing them by hand.\n",
    "</p>"
   ]
  },
  {
   "cell_type": "code",
   "execution_count": 6,
   "metadata": {},
   "outputs": [
    {
     "name": "stdout",
     "output_type": "stream",
     "text": [
      "num_guesses = 29997\n",
      "2.999700000001906 is close to the cube root of 27\n"
     ]
    }
   ],
   "source": [
    "cube = 27\n",
    "epsilon = 0.01\n",
    "guess = 0.0\n",
    "increment = 0.0001\n",
    "num_guesses = 0\n",
    "while abs(guess**3 - cube) >= epsilon and guess <= cube :\n",
    "    guess += increment\n",
    "    num_guesses += 1\n",
    "print('num_guesses =', num_guesses)\n",
    "if abs(guess**3 - cube) >= epsilon:\n",
    "    print('Failed on cube root of', cube)\n",
    "else:\n",
    "    print(guess, 'is close to the cube root of', cube)\n",
    "\n"
   ]
  },
  {
   "cell_type": "markdown",
   "metadata": {},
   "source": [
    "<h4>Bisection Search</h4>\n",
    "<p style = \"text-align: justify\">\n",
    "This is a very common algorithm that I've seen before. The fundamentals are that you make educated guesses until you get the result. This educated guess will always halve the problem: If the guess is higher than what we want, it will halve it to the higher limit, otherwise the lower limit will be halved. <br><br>\n",
    "\n",
    "The example given was the next one, where we are looking for the perfect cube of a number. As you can see in the counter, it only took 14 cycle searches, unlike just guessing which took thousands.\n",
    "</p>"
   ]
  },
  {
   "cell_type": "code",
   "execution_count": 5,
   "metadata": {},
   "outputs": [
    {
     "name": "stdout",
     "output_type": "stream",
     "text": [
      "num_guesses = 14\n",
      "3.000091552734375 is close to the cube root of 27\n"
     ]
    }
   ],
   "source": [
    "cube = 27\n",
    "epsilon = 0.01\n",
    "num_guesses = 0\n",
    "low = 0\n",
    "high = cube\n",
    "guess = (high + low)/2.0\n",
    "while abs(guess**3 - cube) >= epsilon:\n",
    "    if guess**3 < cube :\n",
    "        low = guess\n",
    "    else:\n",
    "        high = guess\n",
    "    guess = (high + low)/2.0\n",
    "    num_guesses += 1\n",
    "print ('num_guesses =', num_guesses)\n",
    "print (guess, 'is close to the cube root of', cube)\n"
   ]
  },
  {
   "cell_type": "code",
   "execution_count": null,
   "metadata": {},
   "outputs": [],
   "source": []
  }
 ],
 "metadata": {
  "kernelspec": {
   "display_name": "Python 3",
   "language": "python",
   "name": "python3"
  },
  "language_info": {
   "codemirror_mode": {
    "name": "ipython",
    "version": 3
   },
   "file_extension": ".py",
   "mimetype": "text/x-python",
   "name": "python",
   "nbconvert_exporter": "python",
   "pygments_lexer": "ipython3",
   "version": "3.6.5"
  }
 },
 "nbformat": 4,
 "nbformat_minor": 2
}
