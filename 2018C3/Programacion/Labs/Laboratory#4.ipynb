{
 "cells": [
  {
   "cell_type": "markdown",
   "metadata": {},
   "source": [
    "<body>\n",
    "    <h1 style=\"text-align:center\">Programación Avanzada II</h1>\n",
    "    <h2 style=\"text-align:center\">Laboratory #4</h2>\n",
    "    <h4 style=\"display:inline-block; \">Carlos Kassab André 3236558 </h4>\n",
    "    <h4 style=\"display:block; float:right\" >September 29th, 2018 </h4>\n",
    "    <p style = \"text-align: justify\">In this notebook I will be showing what we learned during the lecture #4 in my programming     course. Please check my Github for more of these: https://github.com/KassabNova/UAG\n",
    "    <br>\n",
    "    Functions and Scope where the topics of this day, I thought it was weird the keyword for functions was def. Coming from a background in C and Java, the \"public/private void\" seemed like the way to go. \n",
    "    <br>\n",
    "    <h4>Functions</h4>\n",
    "    Functions in python are defined with the 'def' keyword. The parameters go inside the parenthesis and it must respect the indentation. \n",
    "    <br>\n",
    "    <p>\n",
    "\n",
    "</body>"
   ]
  },
  {
   "cell_type": "code",
   "execution_count": 1,
   "metadata": {},
   "outputs": [
    {
     "name": "stdout",
     "output_type": "stream",
     "text": [
      "inside function\n"
     ]
    },
    {
     "data": {
      "text/plain": [
       "False"
      ]
     },
     "execution_count": 1,
     "metadata": {},
     "output_type": "execute_result"
    }
   ],
   "source": [
    "def is_even( x ):\n",
    "    \n",
    "    print(\"inside function\")\n",
    "    return i%2 == 0\n",
    "is_even(3)"
   ]
  },
  {
   "cell_type": "markdown",
   "metadata": {},
   "source": [
    "<p style = \"text-align: justify\">\n",
    "\n",
    "<h4>Scope</h4>\n",
    "The scope of the variables change, so we may have N variables named 'x', but in different environments. What I mean by this is that, you can have an 'x' inside a function and outside it will may have a different name and value. It will be clearer if I show it\n",
    "<br>\n",
    "\n",
    "<p>\n",
    "    "
   ]
  },
  {
   "cell_type": "code",
   "execution_count": 7,
   "metadata": {},
   "outputs": [
    {
     "name": "stdout",
     "output_type": "stream",
     "text": [
      "in function: x = 4\n",
      "outside functiion: hi\n"
     ]
    }
   ],
   "source": [
    "def f( x ):\n",
    "    x = x + 1\n",
    "    print('in function: x =', x)\n",
    "    return x\n",
    "y = 3\n",
    "x = 'hi'\n",
    "z = f( y )\n",
    "print('outside function: ' +x)"
   ]
  },
  {
   "cell_type": "markdown",
   "metadata": {},
   "source": [
    "<p style = \"text-align: justify\">\n",
    "So, as you can see in the example above; variables are local to the function or environment they were created. \n",
    "<p>\n",
    "    "
   ]
  },
  {
   "cell_type": "code",
   "execution_count": null,
   "metadata": {},
   "outputs": [],
   "source": []
  }
 ],
 "metadata": {
  "kernelspec": {
   "display_name": "Python 3",
   "language": "python",
   "name": "python3"
  },
  "language_info": {
   "codemirror_mode": {
    "name": "ipython",
    "version": 3
   },
   "file_extension": ".py",
   "mimetype": "text/x-python",
   "name": "python",
   "nbconvert_exporter": "python",
   "pygments_lexer": "ipython3",
   "version": "3.6.5"
  }
 },
 "nbformat": 4,
 "nbformat_minor": 2
}
