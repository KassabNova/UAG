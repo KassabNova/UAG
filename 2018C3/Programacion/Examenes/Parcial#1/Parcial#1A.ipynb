{
 "cells": [
  {
   "cell_type": "markdown",
   "metadata": {},
   "source": [
    "<body>\n",
    "    <h1 style=\"text-align:center\">Programación Avanzada II</h1>\n",
    "    <h3 style = \"text-align:center\">Problem Set 1</h3>\n",
    "    <p style=\"display:inline-block\"> Carlos Kassab y Victor Humaran</p>\n",
    "    <p style=\"display:block;float:right\"> Septiembre 21</p>\n",
    "    <h3 style = \"text-align:left\">Part A : House Hunting</h3>\n",
    "    <p style= \"text-align:justify\">You have graduated from MIT and now have a great job! You move to the San Francisco Bay Area and\n",
    "decide that you want to start saving to buy a house. As housing prices are very high in the Bay Area,\n",
    "you realize you are going to have to save for several years before you can afford to make the down\n",
    "payment on a house. In Part A, we are going to determine how long it will take you to save enough\n",
    "money to make the down payment given the following assumptions:<br><br></p>\n",
    "    <h3 style = \"text-align:left\">Declaracion de variables</h3>\n",
    "    <p style= \"text-align:justify\">Variabes predefinidas por el problema: siempre será el enganche de 25% y el interés de la caja de ahorro será 0.04% anual. También hay unas cuantas extras que teníamos que inicializar<br><br></p>\n",
    "\n",
    "</body>\n"
   ]
  },
  {
   "cell_type": "code",
   "execution_count": 4,
   "metadata": {},
   "outputs": [],
   "source": [
    "##Predefined Variables\n",
    "down_payment=0.25\n",
    "monthly_interest = 0.04/12\n",
    "total_savings=0\n",
    "months=0\n"
   ]
  },
  {
   "cell_type": "markdown",
   "metadata": {},
   "source": [
    "<h3 style = \"text-align:left\">Input</h3>\n",
    "<p style= \"text-align:justify\">Las variables definidas por input son el costo de la casa, el salario anual, y el porcentaje que se desea ahorrar. </p>"
   ]
  },
  {
   "cell_type": "code",
   "execution_count": 5,
   "metadata": {},
   "outputs": [
    {
     "name": "stdout",
     "output_type": "stream",
     "text": [
      "Introduce the cost of your dream home:\n",
      "1000000\n",
      "How much money do you make in a year?\n",
      "120000\n",
      "Enter the percent of your salary to save, as a decimal?\n",
      "0.1\n"
     ]
    }
   ],
   "source": [
    "print(\"Introduce the cost of your dream home:\")\n",
    "cost_of_dream = input()\n",
    "down_payment*= float(cost_of_dream)\n",
    "print(\"How much money do you make in a year?\")\n",
    "salary = input()\n",
    "salary= int(salary)\n",
    "print(\"Enter the percent of your salary to save, as a decimal?\")\n",
    "monthly_savings = input()\n",
    "monthly_savings= float(monthly_savings)\n",
    "monthly_savings *= (salary/12) \n"
   ]
  },
  {
   "cell_type": "markdown",
   "metadata": {},
   "source": [
    "<h3 style = \"text-align:left\">Calculos y Output</h3>\n",
    "<p style= \"text-align:justify\">En este ejercicio, el cálculo era sencillo, y con el paso de cada ciclo aumentaba el ahorro total por el interes anual entre 12 <br>Al final nos dice cuántos meses tardarías en poder pagar el enganche con esos ahorros e intereses</p>"
   ]
  },
  {
   "cell_type": "code",
   "execution_count": 6,
   "metadata": {},
   "outputs": [
    {
     "name": "stdout",
     "output_type": "stream",
     "text": [
      "It will take 183 months\n"
     ]
    }
   ],
   "source": [
    "while total_savings < down_payment:\n",
    "    interest_saved =  total_savings*monthly_interest\n",
    "    total_savings += interest_saved + monthly_savings\n",
    "    months+=1\n",
    "print(\"It will take %d months\" %months)"
   ]
  }
 ],
 "metadata": {
  "kernelspec": {
   "display_name": "Python 3",
   "language": "python",
   "name": "python3"
  },
  "language_info": {
   "codemirror_mode": {
    "name": "ipython",
    "version": 3
   },
   "file_extension": ".py",
   "mimetype": "text/x-python",
   "name": "python",
   "nbconvert_exporter": "python",
   "pygments_lexer": "ipython3",
   "version": "3.5.6"
  }
 },
 "nbformat": 4,
 "nbformat_minor": 2
}
