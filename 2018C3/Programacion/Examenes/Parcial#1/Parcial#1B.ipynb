{
 "cells": [
  {
   "cell_type": "markdown",
   "metadata": {},
   "source": [
    "\n",
    "</body>\n",
    "<body>\n",
    "    <h1 style=\"text-align:center\">Programación Avanzada II</h1>\n",
    "    <h3 style = \"text-align:center\">Problem Set 1: B</h3>\n",
    "    <p style=\"display:inline-block\"> Carlos Kassab y Victor Humaran</p>\n",
    "    <p style=\"display:block;float:right\"> Septiembre 21</p>\n",
    "    <h3 style = \"text-align:left\">Part B: Saving, with a raise</h3>\n",
    "    <p style= \"text-align:justify\">In Part A, we unrealistically assumed that your salary didn’t change. But you are an MIT graduate, and\n",
    "clearly you are going to be worth more to your company over time! So we are going to build on your\n",
    "solution to Part A by factoring in a raise every six months.<br><br></p>\n",
    "    <h3 style = \"text-align:left\">Declaracion de variables</h3>\n",
    "    <p style= \"text-align:justify\">En la parte B del problem set se pide el mismo dato, pero con un extra: ahora nos darán aumento cada seis meses <br><br>Al igual que en el anterior, se definen las mismas variables.<br></p>\n",
    "\n",
    "</body>\n"
   ]
  },
  {
   "cell_type": "code",
   "execution_count": 9,
   "metadata": {},
   "outputs": [],
   "source": [
    "##Predefined Variables\n",
    "down_payment=0.25\n",
    "monthly_interest = 0.04/12\n",
    "total_savings = 0\n",
    "months = 0"
   ]
  },
  {
   "cell_type": "markdown",
   "metadata": {},
   "source": [
    "<h3 style = \"text-align:left\">Input</h3>\n",
    "<p style= \"text-align:justify\">Igual que antes, mismos datos, pero aquí es introduce el cambio que se pide en este inciso: el porcentaje de aumento semi-anual. </p>"
   ]
  },
  {
   "cell_type": "code",
   "execution_count": 10,
   "metadata": {},
   "outputs": [
    {
     "name": "stdout",
     "output_type": "stream",
     "text": [
      "Introduce the cost of your dream home:\n",
      "500000\n",
      "How much money do you make in a year?\n",
      "120000\n",
      "Enter the percent of your salary to save, as a decimal\n",
      "0.05\n",
      "Enter semi-annual raise, as decimal\n",
      "0.03\n"
     ]
    }
   ],
   "source": [
    "\n",
    "print(\"Introduce the cost of your dream home:\")\n",
    "cost_of_dream = input()\n",
    "down_payment*= float(cost_of_dream)\n",
    "print(\"How much money do you make in a year?\")\n",
    "salary = input()\n",
    "salary= int(salary)\n",
    "print(\"Enter the percent of your salary to save, as a decimal\")\n",
    "monthly_savings = input()\n",
    "monthly_savings= float(monthly_savings)\n",
    "monthly_savings *= (salary/12)  #Para no declarar otra variable\n",
    "print(\"Enter semi-annual raise, as decimal\")\n",
    "semi_raise = input()\n",
    "semi_raise = float(semi_raise)"
   ]
  },
  {
   "cell_type": "markdown",
   "metadata": {},
   "source": [
    "<h3 style = \"text-align:left\">Calculos y Output</h3>\n",
    "<p style= \"text-align:justify\">La manera en la que introducimos el aumento semi anual fue sacando el modulo de nuestro contador \"mensual\" y cuando diera 0 significaba que ocurrió un aumento </p>"
   ]
  },
  {
   "cell_type": "code",
   "execution_count": 11,
   "metadata": {},
   "outputs": [
    {
     "name": "stdout",
     "output_type": "stream",
     "text": [
      "It will take 142 months\n"
     ]
    }
   ],
   "source": [
    "while total_savings < down_payment:\n",
    "    interest_saved =  total_savings*monthly_interest\n",
    "    total_savings += interest_saved + monthly_savings\n",
    "    months+=1\n",
    "    if months%6 == 0: #Cada que pasan 6 meses se entra aquí\n",
    "        monthly_savings *= (1+semi_raise) \n",
    "print(\"It will take %d months\" %months)"
   ]
  }
 ],
 "metadata": {
  "kernelspec": {
   "display_name": "Python 3",
   "language": "python",
   "name": "python3"
  },
  "language_info": {
   "codemirror_mode": {
    "name": "ipython",
    "version": 3
   },
   "file_extension": ".py",
   "mimetype": "text/x-python",
   "name": "python",
   "nbconvert_exporter": "python",
   "pygments_lexer": "ipython3",
   "version": "3.5.6"
  }
 },
 "nbformat": 4,
 "nbformat_minor": 2
}
