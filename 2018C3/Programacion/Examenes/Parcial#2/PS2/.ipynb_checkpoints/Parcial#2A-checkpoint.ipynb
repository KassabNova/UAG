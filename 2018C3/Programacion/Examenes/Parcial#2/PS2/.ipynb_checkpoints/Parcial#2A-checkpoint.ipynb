{
 "cells": [
  {
   "cell_type": "markdown",
   "metadata": {},
   "source": [
    "<body>\n",
    "    <h1 style=\"text-align:center\">Programación Avanzada II</h1>\n",
    "    <h3 style = \"text-align:center\">Problem Set 2</h3>\n",
    "    <p style=\"display:inline-block\"> Carlos Kassab</p>\n",
    "    <p style=\"display:block;float:right\"> October 3rd, 2018</p>\n",
    "    <h3 style = \"text-align:left\">Part 1: Ez Hangman</h3>\n",
    "    <p style= \"text-align:justify\">The Objective of this problem set is to create a hangman game. It consists of two parts, the simple game, and the game with hints. The problem is given with some helper functions that are shown below this text. <br><br></p>\n",
    "    <h3 style = \"text-align:left\">Included Helper Functions</h3>\n",
    "    <p style= \"text-align:justify\">The functions provided load a file with words into a string splitted by commas and then it chooses one at random. If there's any doubt about what a function does, please do remember they have a comment which will describe them<br><br></p>\n",
    "    \n",
    "\n",
    "\n",
    "</body>\n"
   ]
  },
  {
   "cell_type": "markdown",
   "metadata": {},
   "source": [
    "<h3 style = \"text-align:left\">Game Rules</h3>\n",
    "\n",
    "1. The user starts with 3 warnings.\n",
    "2. If the user inputs anything besides an alphabet (symbols, numbers), tell the\n",
    "user that they can only input an alphabet. \n",
    "a. If the user has one or more warning left, the user should lose one\n",
    "warning. Tell the user the number of remaining warnings.\n",
    "b. If the user has no remaining warnings, they should lose one guess.\n",
    "3. If the user inputs a letter that has already been guessed, print a message\n",
    "telling the user the letter has already been guessed before.\n",
    "a. If the user has one or more warning left, the user should lose one\n",
    "warning. Tell the user the number of remaining warnings.\n",
    "b. If the user has no warnings, they should lose one guess.\n",
    "4. If the user inputs a letter that hasn’t been guessed before and the letter is in\n",
    "the secret word, the user loses no guesses.\n",
    "5. Consonants: If the user inputs a consonant that hasn’t been guessed and the\n",
    "consonant is not in the secret word, the user loses one guess if it’s a\n",
    "consonant.\n",
    "6. Vowels: If the vowel hasn’t been guessed and the vowel is not in the secret\n",
    "word, the user loses two guesses. Vowels are a, e, i  , o, and u. y does not\n",
    "count as a vowel."
   ]
  },
  {
   "cell_type": "code",
   "execution_count": 1,
   "metadata": {},
   "outputs": [
    {
     "name": "stdout",
     "output_type": "stream",
     "text": [
      "Loading word list from file...\n",
      "   55900 words loaded.\n",
      "disinter\n"
     ]
    }
   ],
   "source": [
    "import random\n",
    "import string\n",
    "\n",
    "WORDLIST_FILENAME = \"words.txt\"\n",
    "\n",
    "\n",
    "def load_words(): \n",
    "    \"\"\"\n",
    "    Returns a list of valid words. Words are strings of lowercase letters.\n",
    "    \n",
    "    Depending on the size of the word list, this function may\n",
    "    take a while to finish.\n",
    "    \"\"\"\n",
    "    print(\"Loading word list from file...\")\n",
    "    # inFile: file\n",
    "    inFile = open(WORDLIST_FILENAME, 'r')\n",
    "    # line: string\n",
    "    line = inFile.readline()\n",
    "    # wordlist: list of strings\n",
    "    wordlist = line.split()\n",
    "    print(\"  \", len(wordlist), \"words loaded.\")\n",
    "    return wordlist\n",
    "\n",
    "\n",
    "\n",
    "def choose_word(wordlist):\n",
    "    \"\"\"\n",
    "    wordlist (list): list of words (strings)\n",
    "    \n",
    "    Returns a word from wordlist at random\n",
    "    \"\"\"\n",
    "    return random.choice(wordlist)\n",
    "\n",
    "# end of helper code\n",
    "\n",
    "# -----------------------------------\n",
    "\n",
    "# Load the list of words into the variable wordlist\n",
    "# so that it can be accessed from anywhere in the program\n",
    "wordlist = load_words()\n",
    "secret_word = choose_word(wordlist)\n",
    "print(secret_word)\n"
   ]
  },
  {
   "cell_type": "markdown",
   "metadata": {},
   "source": [
    "<h3 style = \"text-align:left\">Problem 1<br>\n",
    "Hangman Part 1: Three helper functions </h3>\n",
    "<p style= \"text-align:justify\"> \n",
    "<ul>\n",
    "  <li>Word Guessed?</li>\n",
    "  <li>Getting Guess</li>\n",
    "  <li>Available Letters</li>\n",
    "</ul> \n",
    "\n",
    "<h4 style = \"text-align:left\">Is it guessed1?!?</h4>\n",
    "\n",
    "1. To check if the word was guessed, it will compare if all the letters inside the secret word are part of the list of letters that have been guessed. \n",
    "<br><br>\n",
    "\n",
    "</p>\n",
    "\n"
   ]
  },
  {
   "cell_type": "code",
   "execution_count": 2,
   "metadata": {},
   "outputs": [],
   "source": [
    "def is_word_guessed(secret_word, letters_guessed):\n",
    "    '''\n",
    "    secret_word: string, the word the user is guessing; assumes all letters are\n",
    "    lowercase\n",
    "    letters_guessed: list (of letters), which letters have been guessed so far;\n",
    "    assumes that all letters are lowercase\n",
    "    returns: boolean, True if all the letters of secret_word are in letters_guessed;\n",
    "    False otherwise\n",
    "    '''\n",
    "    guessed = True\n",
    "    for letter in secret_word:\n",
    "        if letter in letters_guessed:\n",
    "            continue\n",
    "        else:\n",
    "            guessed = False\n",
    "    return guessed"
   ]
  },
  {
   "cell_type": "markdown",
   "metadata": {},
   "source": [
    "<h4 style = \"text-align:left\">Get the Guess</h4>\n",
    "\n",
    "2. Displays the user's progress on the word with the classic  underscore that will divide each unkown letter. \n",
    "<br><br>"
   ]
  },
  {
   "cell_type": "code",
   "execution_count": 3,
   "metadata": {},
   "outputs": [],
   "source": [
    "def get_guessed_word(secret_word, letters_guessed):\n",
    "    '''\n",
    "    secret_word: string, the word the user is guessing\n",
    "    letters_guessed: list (of letters), which letters have been guessed so far\n",
    "    returns: string, comprised of letters, underscores (_), and spaces that represents\n",
    "    which letters in secret_word have been guessed so far.\n",
    "    '''\n",
    "    for letter in secret_word:\n",
    "        if letter in letters_guessed:\n",
    "            print(letter)\n",
    "        else:\n",
    "            print (\"_ \")"
   ]
  },
  {
   "cell_type": "markdown",
   "metadata": {},
   "source": [
    "<h4 style = \"text-align:left\">Available Letters</h4>\n",
    "\n",
    "3. This one will compare the letters guessed with the available letters, substract the ones that have been guessed and return the remaining letters that haven't been guessed. "
   ]
  },
  {
   "cell_type": "code",
   "execution_count": 4,
   "metadata": {},
   "outputs": [],
   "source": [
    "def get_available_letters(letters_guessed):\n",
    "    '''\n",
    "    letters_guessed: list (of letters), which letters have been guessed so far\n",
    "    returns: string (of letters), comprised of letters that represents which letters have not\n",
    "    yet been guessed.\n",
    "    '''\n",
    "    available_letters = 'abcdefghijklmnopqrstuvwxyz'\n",
    "    for letter in letters_guessed:\n",
    "        if letter in available_letters:\n",
    "            available_letters = available_letters.replace(letter, \"\")\n",
    "\n",
    "    return available_letters"
   ]
  },
  {
   "cell_type": "markdown",
   "metadata": {},
   "source": [
    "<h3 style = \"text-align:left\">D) The Game Fruit Loops </h3>\n",
    "<p style= \"text-align:justify\"> </p>"
   ]
  },
  {
   "cell_type": "markdown",
   "metadata": {},
   "source": [
    "<h3 style = \"text-align:left\">Problem 2<br>\n",
    "Hangman Part 2: Fruit Loops </h3>\n",
    "<p style= \"text-align:justify\"> \n",
    "<ul>\n",
    "  <li>Game Architecture</li>\n",
    "  <li>Input Requirements</li>\n",
    "  <li>Game Rules (at the top)</li>\n",
    "</ul> \n",
    "\n",
    "<h4 style = \"text-align:left\">Game  Architecture</h4>\n",
    "\n",
    "1. The computer must select a word at random from the list of available words that was provided in words.txt. \n",
    "2. Users start with 6 guesses. \n",
    "3. At the start of the game, let the user know how many letters the computer's word contains and how many guesses s/he starts with. \n",
    "4. The computer keeps track of all the letters the user has not guessed so far and  before each turn shows the user the “remaining letters”\n",
    "<br><br>\n",
    "\n",
    "\n",
    "</p>\n",
    "\n"
   ]
  },
  {
   "cell_type": "markdown",
   "metadata": {},
   "source": [
    "<h4 style = \"text-align:left\">Input Requirements </h4>\n",
    "\n",
    "1. You may assume that the user will only guess one character at a time, but the user can choose any number, symbol or letter. Your code should accept capital and lowercase letters as valid guesses!\n",
    "\n",
    "2. If the user inputs anything besides an alphabet (symbols, numbers), tell the user that they can only input an alphabet. Because the user might do this by accident, they should get 3 warnings at the beginning of the game. Each time they enter an invalid input, or a letter they have already guessed, they should lose a warning. If the user has no warnings left and enters an invalid input, they should lose a guess."
   ]
  },
  {
   "cell_type": "code",
   "execution_count": null,
   "metadata": {},
   "outputs": [],
   "source": [
    "def hangman(secret_word):\n",
    "    '''\n",
    "    secret_word: string, the secret word to guess.\n",
    "\n",
    "    Starts up an interactive game of Hangman.\n",
    "\n",
    "    * At the start of the game, let the user know how many \n",
    "    letters the secret_word contains and how many guesses s/he starts with.\n",
    "\n",
    "    * The user should start with 6 guesses\n",
    "\n",
    "    * Before each round, you should display to the user how many guesses\n",
    "    s/he has left and the letters that the user has not yet guessed.\n",
    "\n",
    "    * Ask the user to supply one guess per round. Remember to make\n",
    "    sure that the user puts in a letter!\n",
    "\n",
    "    * The user should receive feedback immediately after each guess \n",
    "    about whether their guess appears in the computer's word.\n",
    "\n",
    "    * After each guess, you should display to the user the \n",
    "    partially guessed word so far.\n",
    "\n",
    "    Follows the other limitations detailed in the problem write-up.\n",
    "    '''\n",
    "    #The predefined variables\n",
    "    guesses = 6 \n",
    "    warnings = 3 \n",
    "    available_letters_number= 0\n",
    "    \n",
    "    letters_guessed = []\n",
    "    guess=''\n",
    "    print(\"Welcome to hangman\")\n",
    "    print(\"You have 6 guesses, use them wisely\")\n",
    "    print(\"I'm thinking of a word that is \", len(secret_word),\"letters long\" )\n",
    "    print(\"You have\" ,warnings, \"left\")\n",
    "    #Game Loop Starts Here\n",
    "    while guesses > 0 :\n",
    "        #A placeholder for the available letters before each game round\n",
    "        available_letters_number = len(get_available_letters(letters_guessed)) \n",
    "        #Game Messages\n",
    "        print(\"----------------------------\")\n",
    "        print(\"You have \",guesses, \"guesses left\")\n",
    "        print(\"These are the remaining letters:\", get_available_letters(letters_guessed) )\n",
    "        print(\"Please give me one guess:\")\n",
    "        guess = input()\n",
    "        letters_guessed.append(guess)\n",
    "        get_guessed_word(secret_word, letters_guessed)\n",
    "        \n",
    "                \n",
    "        #If the word hasn't been guessed \n",
    "        if (is_word_guessed(secret_word, letters_guessed)==False): \n",
    "            #If the guess is in secret word, but it was not a valid guess\n",
    "            if guess in secret_word:\n",
    "\n",
    "                if(available_letters_number == len(get_available_letters(letters_guessed))): #Checking if letter is in word\n",
    "                    warnings -=1\n",
    "                    print(\"Oops! You repeated a letter or that isn't a letter. You've\", warnings, \"warnings left\")\n",
    "            #When the word was not in the secret word\n",
    "            else:\n",
    "                if(available_letters_number == len(get_available_letters(letters_guessed))): #Checking if letter is in word\n",
    "                    warnings -=1\n",
    "                    print(\"Oops! You repeated a letter or that isn't a letter. You've\", warnings, \"warnings left\")\n",
    "                else:\n",
    "                    guesses-=1\n",
    "                    print(\"Oops! That letter isn't in my word\")\n",
    "                    if guesses == 0:\n",
    "                        print(\"You Lost, the word was\", secret_word) #Loser message\n",
    "                if(warnings == 0):\n",
    "                    print(\"The word was\", secret_word) #Another loser message for warnings\n",
    "                    print(\"We warned you! Loser\") \n",
    "                    break\n",
    "        else:\n",
    "            print(\"Congrats, you won\") #Winner Message Yay!\n",
    "            break"
   ]
  },
  {
   "cell_type": "code",
   "execution_count": null,
   "metadata": {},
   "outputs": [
    {
     "name": "stdout",
     "output_type": "stream",
     "text": [
      "Loading word list from file...\n",
      "   55900 words loaded.\n",
      "disinter\n",
      "Welcome to hangman\n",
      "You have 6 guesses, use them wisely\n",
      "I'm thinking of a word that is  8 letters long\n",
      "You have 3 left\n",
      "----------------------------\n",
      "You have  6 guesses left\n",
      "These are the remaining letters: abcdefghijklmnopqrstuvwxyz\n",
      "Please give me one guess:\n"
     ]
    }
   ],
   "source": [
    "if __name__ == \"__main__\":\n",
    "\n",
    "    wordlist = load_words()\n",
    "    print(secret_word)\n",
    "    hangman(secret_word)"
   ]
  }
 ],
 "metadata": {
  "kernelspec": {
   "display_name": "Python 3",
   "language": "python",
   "name": "python3"
  },
  "language_info": {
   "codemirror_mode": {
    "name": "ipython",
    "version": 3
   },
   "file_extension": ".py",
   "mimetype": "text/x-python",
   "name": "python",
   "nbconvert_exporter": "python",
   "pygments_lexer": "ipython3",
   "version": "3.7.0"
  }
 },
 "nbformat": 4,
 "nbformat_minor": 2
}
