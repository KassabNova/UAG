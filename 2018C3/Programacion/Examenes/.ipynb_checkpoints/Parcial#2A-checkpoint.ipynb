{
 "cells": [
  {
   "cell_type": "markdown",
   "metadata": {},
   "source": [
    "<body>\n",
    "    <h1 style=\"text-align:center\">Programación Avanzada II</h1>\n",
    "    <h3 style = \"text-align:center\">Problem Set 2</h3>\n",
    "    <p style=\"display:inline-block\"> Carlos Kassab y Victor Humaran</p>\n",
    "    <p style=\"display:block;float:right\"> October 3rd, 2018</p>\n",
    "    <h3 style = \"text-align:left\">Part 1: Helper Functions</h3>\n",
    "    <p style= \"text-align:justify\">You have graduated from MIT and now have a great job! You move to the San Francisco Bay Area and\n",
    "    decide that you want to start saving to buy a house. As housing prices are very high in the Bay Area,\n",
    "    you realize you are going to have to save for several years before you can afford to make the down\n",
    "    payment on a house. In Part A, we are going to determine how long it will take you to save enough\n",
    "    money to make the down payment given the following assumptions:<br><br></p>\n",
    "    <h3 style = \"text-align:left\">Included Helper Functions</h3>\n",
    "    <p style= \"text-align:justify\">Variabes predefinidas por el problema: siempre será el enganche de 25% y el interés de la caja de ahorro será 0.04% anual. También hay unas cuantas extras que teníamos que inicializar<br><br></p>\n",
    "\n",
    "</body>\n"
   ]
  },
  {
   "cell_type": "code",
   "execution_count": 2,
   "metadata": {},
   "outputs": [
    {
     "name": "stdout",
     "output_type": "stream",
     "text": [
      "Loading word list from file...\n"
     ]
    },
    {
     "ename": "FileNotFoundError",
     "evalue": "[Errno 2] No such file or directory: 'words.txt'",
     "output_type": "error",
     "traceback": [
      "\u001b[1;31m---------------------------------------------------------------------------\u001b[0m",
      "\u001b[1;31mFileNotFoundError\u001b[0m                         Traceback (most recent call last)",
      "\u001b[1;32m<ipython-input-2-cb72ea5450cb>\u001b[0m in \u001b[0;36m<module>\u001b[1;34m()\u001b[0m\n\u001b[0;32m     38\u001b[0m \u001b[1;31m# Load the list of words into the variable wordlist\u001b[0m\u001b[1;33m\u001b[0m\u001b[1;33m\u001b[0m\u001b[0m\n\u001b[0;32m     39\u001b[0m \u001b[1;31m# so that it can be accessed from anywhere in the program\u001b[0m\u001b[1;33m\u001b[0m\u001b[1;33m\u001b[0m\u001b[0m\n\u001b[1;32m---> 40\u001b[1;33m \u001b[0mwordlist\u001b[0m \u001b[1;33m=\u001b[0m \u001b[0mload_words\u001b[0m\u001b[1;33m(\u001b[0m\u001b[1;33m)\u001b[0m\u001b[1;33m\u001b[0m\u001b[0m\n\u001b[0m",
      "\u001b[1;32m<ipython-input-2-cb72ea5450cb>\u001b[0m in \u001b[0;36mload_words\u001b[1;34m()\u001b[0m\n\u001b[0;32m     14\u001b[0m     \u001b[0mprint\u001b[0m\u001b[1;33m(\u001b[0m\u001b[1;34m\"Loading word list from file...\"\u001b[0m\u001b[1;33m)\u001b[0m\u001b[1;33m\u001b[0m\u001b[0m\n\u001b[0;32m     15\u001b[0m     \u001b[1;31m# inFile: file\u001b[0m\u001b[1;33m\u001b[0m\u001b[1;33m\u001b[0m\u001b[0m\n\u001b[1;32m---> 16\u001b[1;33m     \u001b[0minFile\u001b[0m \u001b[1;33m=\u001b[0m \u001b[0mopen\u001b[0m\u001b[1;33m(\u001b[0m\u001b[0mWORDLIST_FILENAME\u001b[0m\u001b[1;33m,\u001b[0m \u001b[1;34m'r'\u001b[0m\u001b[1;33m)\u001b[0m\u001b[1;33m\u001b[0m\u001b[0m\n\u001b[0m\u001b[0;32m     17\u001b[0m     \u001b[1;31m# line: string\u001b[0m\u001b[1;33m\u001b[0m\u001b[1;33m\u001b[0m\u001b[0m\n\u001b[0;32m     18\u001b[0m     \u001b[0mline\u001b[0m \u001b[1;33m=\u001b[0m \u001b[0minFile\u001b[0m\u001b[1;33m.\u001b[0m\u001b[0mreadline\u001b[0m\u001b[1;33m(\u001b[0m\u001b[1;33m)\u001b[0m\u001b[1;33m\u001b[0m\u001b[0m\n",
      "\u001b[1;31mFileNotFoundError\u001b[0m: [Errno 2] No such file or directory: 'words.txt'"
     ]
    }
   ],
   "source": [
    "import random\n",
    "import string\n",
    "\n",
    "WORDLIST_FILENAME = \"words.txt\"\n",
    "\n",
    "\n",
    "def load_words():\n",
    "    \"\"\"\n",
    "    Returns a list of valid words. Words are strings of lowercase letters.\n",
    "    \n",
    "    Depending on the size of the word list, this function may\n",
    "    take a while to finish.\n",
    "    \"\"\"\n",
    "    print(\"Loading word list from file...\")\n",
    "    # inFile: file\n",
    "    inFile = open(WORDLIST_FILENAME, 'r')\n",
    "    # line: string\n",
    "    line = inFile.readline()\n",
    "    # wordlist: list of strings\n",
    "    wordlist = line.split()\n",
    "    print(\"  \", len(wordlist), \"words loaded.\")\n",
    "    return wordlist\n",
    "\n",
    "\n",
    "\n",
    "def choose_word(wordlist):\n",
    "    \"\"\"\n",
    "    wordlist (list): list of words (strings)\n",
    "    \n",
    "    Returns a word from wordlist at random\n",
    "    \"\"\"\n",
    "    return random.choice(wordlist)\n",
    "\n",
    "# end of helper code\n",
    "\n",
    "# -----------------------------------\n",
    "\n",
    "# Load the list of words into the variable wordlist\n",
    "# so that it can be accessed from anywhere in the program\n",
    "wordlist = load_words()"
   ]
  },
  {
   "cell_type": "markdown",
   "metadata": {},
   "source": [
    "<h3 style = \"text-align:left\">1A) Determine whether the word has been guessed </h3>\n",
    "<p style= \"text-align:justify\">Las variables definidas por input son el costo de la casa, el salario anual, y el porcentaje que se desea ahorrar. </p>"
   ]
  },
  {
   "cell_type": "code",
   "execution_count": null,
   "metadata": {},
   "outputs": [],
   "source": []
  }
 ],
 "metadata": {
  "kernelspec": {
   "display_name": "Python 3",
   "language": "python",
   "name": "python3"
  },
  "language_info": {
   "codemirror_mode": {
    "name": "ipython",
    "version": 3
   },
   "file_extension": ".py",
   "mimetype": "text/x-python",
   "name": "python",
   "nbconvert_exporter": "python",
   "pygments_lexer": "ipython3",
   "version": "3.5.6"
  }
 },
 "nbformat": 4,
 "nbformat_minor": 2
}
