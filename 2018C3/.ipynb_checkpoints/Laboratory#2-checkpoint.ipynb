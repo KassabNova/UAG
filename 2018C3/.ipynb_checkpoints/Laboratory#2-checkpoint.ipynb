{
 "cells": [
  {
   "cell_type": "markdown",
   "metadata": {},
   "source": [
    "<body>\n",
    "    <h1 style=\"text-align:center\">Programación Avanzada II</h1>\n",
    "    <h2 style=\"text-align:center\">Laboratory #2</h2>\n",
    "    <h4 style=\"display:inline-block; \">Carlos Kassab André 3236558 </h4>\n",
    "    <h4 style=\"display:block; float:right\" >September 23rd, 2018 </h4>\n",
    "    <p style = \"text-align: justify\">In this notebook I will be showing what we     learned during the lecture #2 in my programming     course. Please check my Github for more of these:\n",
    "        https://github.com/KassabNova/UAG<br>\n",
    "    This lecture was a bit more engaging, but nonetheless still basic. This one     showed strings, iteration, and input. I'll start with strings.<br>\n",
    "    <h4>Strings</h4>\n",
    "    So, as we saw last lecture, a declared variable can be of any data type and the way python identifies strings is when the\n",
    "    value that it holds is inside the usual quotation marks  or apostrophe. As with any programming language, you can \n",
    "    manipulate the strings and concatenate them with the use of '+'. A very interesting trait is that you can perform other         operations\n",
    "    with them. See the example bellow for a demostration.\n",
    "    <p>\n",
    "    \n",
    "</body>"
   ]
  },
  {
   "cell_type": "code",
   "execution_count": 5,
   "metadata": {},
   "outputs": [
    {
     "name": "stdout",
     "output_type": "stream",
     "text": [
      "this is a string/ this is a string/ this is a string/ \n"
     ]
    }
   ],
   "source": [
    "aString = \"this is a string/ \"\n",
    "operationString = aString * 3\n",
    "print(operationString)"
   ]
  },
  {
   "cell_type": "markdown",
   "metadata": {},
   "source": [
    "<p style = \"text-align: justify\">\n",
    "\n",
    "<h4>Input</h4>\n",
    "The basic I/O in python is performed using print() and input() functions. As seen with the example below, the data type  is taken into consideration when using the print function. The input function will receive any input as a string, so it is important to use a cast when trying to use it as an integer.\n",
    "</p>"
   ]
  },
  {
   "cell_type": "code",
   "execution_count": 10,
   "metadata": {},
   "outputs": [
    {
     "name": "stdout",
     "output_type": "stream",
     "text": [
      "1\n",
      "my fav num is 1 . x = 1\n",
      "my fav num is 1. x = 1\n",
      "Type anything... 5\n",
      "55555\n"
     ]
    }
   ],
   "source": [
    "x = 1\n",
    "print(x)\n",
    "x_str = str(x)\n",
    "print(\"my fav num is\", x, \".\", \"x =\", x)\n",
    "print(\"my fav num is \" + x_str + \". \" + \"x = \" + x_str)\n",
    "\n",
    "text = input(\"Type anything... \")\n",
    "print(5*text)"
   ]
  },
  {
   "cell_type": "markdown",
   "metadata": {},
   "source": [
    "<p style = \"text-align: justify\">\n",
    "\n",
    "<h4>Iteration and Loops</h4>\n",
    "Loops usually have the same syntax in all programming languages, and they may have a unique gimick from language to language, but there will always be the for and while loops. They function just as you would expect from any other loop instruction, but as I said before, some have unique gimicks. <br> \n",
    "The for loop has this Object-Oriented way of iterating through the item, such that it uses the a weird way(at least for me used to C).<br>\n",
    "Another VERY VERY IMPORTANT thing in the python syntax is the indentation. Luckily, I'm used to good programming practices and I indent my code, but the thing in python is that it *FORCES* the programmer to indent. Python uses de indentation to identify the blocks of code, and if something is outside it's supposed block it *WON'T RUN* or it will have unexpected behaviour. \n",
    "</p>"
   ]
  },
  {
   "cell_type": "code",
   "execution_count": 11,
   "metadata": {},
   "outputs": [
    {
     "ename": "IndentationError",
     "evalue": "expected an indented block (<ipython-input-11-cb57e3c6f12a>, line 3)",
     "output_type": "error",
     "traceback": [
      "\u001b[1;36m  File \u001b[1;32m\"<ipython-input-11-cb57e3c6f12a>\"\u001b[1;36m, line \u001b[1;32m3\u001b[0m\n\u001b[1;33m    n = input(\"You're in the Lost Forest. Go left or right? \")\u001b[0m\n\u001b[1;37m    ^\u001b[0m\n\u001b[1;31mIndentationError\u001b[0m\u001b[1;31m:\u001b[0m expected an indented block\n"
     ]
    }
   ],
   "source": [
    "n = input(\"You're in the Lost Forest. Go left or right? \")\n",
    "while n == \"right\":\n",
    "n = input(\"You're in the Lost Forest. Go left or right? \")\n",
    "print(\"You got out of the Lost Forest!\")\n"
   ]
  },
  {
   "cell_type": "code",
   "execution_count": 13,
   "metadata": {},
   "outputs": [
    {
     "name": "stdout",
     "output_type": "stream",
     "text": [
      "You're in the Lost Forest. Go left or right? right\n",
      "You're in the Lost Forest. Go left or right? right\n",
      "You're in the Lost Forest. Go left or right? left\n",
      "You got out of the Lost Forest!\n"
     ]
    }
   ],
   "source": [
    "n = input(\"You're in the Lost Forest. Go left or right? \")\n",
    "while n == \"right\" :\n",
    "    n = input(\"You're in the Lost Forest. Go left or right? \")\n",
    "print(\"You got out of the Lost Forest!\")"
   ]
  },
  {
   "cell_type": "code",
   "execution_count": null,
   "metadata": {},
   "outputs": [],
   "source": []
  }
 ],
 "metadata": {
  "kernelspec": {
   "display_name": "Python 3",
   "language": "python",
   "name": "python3"
  },
  "language_info": {
   "codemirror_mode": {
    "name": "ipython",
    "version": 3
   },
   "file_extension": ".py",
   "mimetype": "text/x-python",
   "name": "python",
   "nbconvert_exporter": "python",
   "pygments_lexer": "ipython3",
   "version": "3.6.5"
  }
 },
 "nbformat": 4,
 "nbformat_minor": 2
}
