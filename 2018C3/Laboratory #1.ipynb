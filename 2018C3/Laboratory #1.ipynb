{
 "cells": [
  {
   "cell_type": "markdown",
   "metadata": {},
   "source": [
    "<body>\n",
    "    <h1 style=\"text-align:center\">Programación Avanzada II</h1>\n",
    "    <h2 style=\"text-align:center\">Laboratory #1</h2>\n",
    "    <h4 style=\"display:inline-block; \">Carlos Kassab André 3236558 </h4>\n",
    "    <h4 style=\"display:block; float:right\" >September 23rd, 2018 </h4>\n",
    "    <p style = \"text-align: justify\">In this notebook I will be showing what we learned during the lecture #1 in my programming     course. Please check my Github for more of these:\n",
    "        https://github.com/KassabNova/UAG <br>\n",
    "    As with any learning curve, it started very easy. The very first thing that the course teaches, about programming\n",
    "    is how to declare a variable. In python it is as easy as just giving it a name and a value: no need to specify if it's \n",
    "    integer or string. It continues explaining how to make line comments, which are made with the '#' symbol, and it's a very\n",
    "    useful and important part of ANY programming language. Last, but not least, comes how to compute and print(as seen in the \n",
    "    the example below). It is very interesting how, in python, there are some operators that I wish were in C. For example: You \n",
    "    can represent the a number to the power of N with the operator ** <br>\n",
    "    <p>\n",
    "    \n",
    "</body>"
   ]
  },
  {
   "cell_type": "code",
   "execution_count": 6,
   "metadata": {},
   "outputs": [
    {
     "name": "stdout",
     "output_type": "stream",
     "text": [
      "19.6349375\n"
     ]
    }
   ],
   "source": [
    "pi = 3.14159\n",
    "radius = 2.5\n",
    "# area of circle equation <- this is a comment\n",
    "area = pi*(radius**2)\n",
    "print(area)"
   ]
  },
  {
   "cell_type": "markdown",
   "metadata": {},
   "source": [
    "<body>\n",
    "    \n",
    "    <p style = \"text-align: justify\"> Another interesting part of python is the data type None, which I thought was a \n",
    "    null. After some thought, and google examples, I came to realize how it just is the same thing, and there is no null in \n",
    "    python. The lecture also describes the semantic and syntactic rules of programming, but that is pretty basic and standard\n",
    "    on al languages (so I won't cover it here).<p>\n",
    "    \n",
    "</body>"
   ]
  },
  {
   "cell_type": "code",
   "execution_count": null,
   "metadata": {},
   "outputs": [],
   "source": []
  }
 ],
 "metadata": {
  "kernelspec": {
   "display_name": "Python 3",
   "language": "python",
   "name": "python3"
  },
  "language_info": {
   "codemirror_mode": {
    "name": "ipython",
    "version": 3
   },
   "file_extension": ".py",
   "mimetype": "text/x-python",
   "name": "python",
   "nbconvert_exporter": "python",
   "pygments_lexer": "ipython3",
   "version": "3.6.5"
  }
 },
 "nbformat": 4,
 "nbformat_minor": 2
}
