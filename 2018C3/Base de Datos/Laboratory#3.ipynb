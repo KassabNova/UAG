{
 "cells": [
  {
   "cell_type": "markdown",
   "metadata": {},
   "source": [
    "<body>\n",
    "    <h1 style=\"text-align:center\">Programación Avanzada II</h1>\n",
    "    <h2 style=\"text-align:center\">Laboratory #3</h2>\n",
    "    <h4 style=\"display:inline-block; \">Carlos Kassab André 3236558 </h4>\n",
    "    <h4 style=\"display:block; float:right\" >September 24th, 2018 </h4>\n",
    "    <p style = \"text-align: justify\">In this notebook I will be showing what we learned during the lecture #3 in my programming     course. Please check my Github for more of these: https://github.com/KassabNova/UAG<br>\n",
    "    The lecture continued from last class on more advanced string manipulations, approximate solutions and bisection search.  \n",
    "    <br>\n",
    "    <h4>Advanced String Manipulation</h4>\n",
    "    The very first thing the slides explain is the len() function, that returns a string length. And then something that I liked about python: negative indexing!<br>\n",
    "    It's possible to use a negative index inside a string's brackets to go in 'reverse'. What I mean by that is that string[-1] will evaluate to the last char and string[-2] will evaluate to the last char -1.<br>\n",
    "    The string slicing is made with the [start:stop:step], where the default start will be 0, the stop will be the string's length, and the step will be 1.\n",
    "    A VERY VERY IMPORTANT thing in strings, when manipulating them, is that they are immutable and can't be modified.<br>\n",
    "    Strings and loops go hand by hand, and as seen in the example below, you can nest iterations through more than one string.\n",
    "    <p>\n",
    "    \n",
    "</body>"
   ]
  },
  {
   "cell_type": "code",
   "execution_count": 4,
   "metadata": {},
   "outputs": [
    {
     "name": "stdout",
     "output_type": "stream",
     "text": [
      "common letter: m\n",
      "common letter: i\n",
      "common letter: t\n",
      "common letter:  \n",
      "common letter: u\n",
      "common letter:  \n",
      "common letter: r\n"
     ]
    }
   ],
   "source": [
    "s1 = \"mit u rock\"\n",
    "s2 = \"i rule mit\"\n",
    "if len(s1) == len(s2):\n",
    "    for char1 in s1:\n",
    "        for char2 in s2:\n",
    "            if char1 == char2:\n",
    "                print(\"common letter:\", char1)\n",
    "                break"
   ]
  },
  {
   "cell_type": "markdown",
   "metadata": {},
   "source": [
    "<p style = \"text-align: justify\">\n",
    "\n",
    "<h4>Input</h4>\n",
    "The basic I/O in python is performed using print() and input() functions. As seen with the example below, the data type  is taken into consideration when using the print function. The input function will receive any input as a string, so it is important to use a cast when trying to use it as an integer.\n",
    "</p>"
   ]
  },
  {
   "cell_type": "code",
   "execution_count": null,
   "metadata": {},
   "outputs": [],
   "source": []
  }
 ],
 "metadata": {
  "kernelspec": {
   "display_name": "Python 3",
   "language": "python",
   "name": "python3"
  },
  "language_info": {
   "codemirror_mode": {
    "name": "ipython",
    "version": 3
   },
   "file_extension": ".py",
   "mimetype": "text/x-python",
   "name": "python",
   "nbconvert_exporter": "python",
   "pygments_lexer": "ipython3",
   "version": "3.5.6"
  }
 },
 "nbformat": 4,
 "nbformat_minor": 2
}
