{
 "cells": [
  {
   "cell_type": "markdown",
   "metadata": {},
   "source": [
    " <h3 style = \"text-align:left\">Part B: Saving, with a raise</h3>\n",
    "    <p style= \"text-align:justify\">Background\n",
    "In Part A, we unrealistically assumed that your salary didn’t change. But you are an MIT graduate, and\n",
    "clearly you are going to be worth more to your company over time! So we are going to build on your\n",
    "solution to Part A by factoring in a raise every six months.</p>\n",
    "</body>"
   ]
  },
  {
   "cell_type": "code",
   "execution_count": 8,
   "metadata": {},
   "outputs": [
    {
     "name": "stdout",
     "output_type": "stream",
     "text": [
      "Introduce the cost of your dream home:\n",
      "1500000\n",
      "How much money do you make in a year?\n",
      "75000\n",
      "Enter the percent of your salary to save, as a decimal\n",
      ".05\n",
      "Enter semi-annual raise, as decimal\n",
      ".05\n",
      "It will take 261 months\n"
     ]
    }
   ],
   "source": [
    "##Predefined Variables\n",
    "down_payment=0.25\n",
    "monthly_interest = 0.04/12\n",
    "total_savings = 0\n",
    "months = 0\n",
    "print(\"Introduce the cost of your dream home:\")\n",
    "cost_of_dream = input()\n",
    "down_payment*= float(cost_of_dream)\n",
    "print(\"How much money do you make in a year?\")\n",
    "salary = input()\n",
    "salary= int(salary)\n",
    "print(\"Enter the percent of your salary to save, as a decimal\")\n",
    "monthly_savings = input()\n",
    "monthly_savings= float(monthly_savings)\n",
    "monthly_savings *= (salary/12) \n",
    "print(\"Enter semi-annual raise, as decimal\")\n",
    "semi_raise = input()\n",
    "semi_raise = float(semi_raise)\n",
    "while total_savings < down_payment:\n",
    "    interest_saved =  total_savings*monthly_interest\n",
    "    total_savings += interest_saved + monthly_savings\n",
    "    months+=1\n",
    "    if months%6 == 0:\n",
    "        monthly_savings *= (1+semi_raise) \n",
    "print(\"It will take %d months\" %months)"
   ]
  }
 ],
 "metadata": {
  "kernelspec": {
   "display_name": "Python 3",
   "language": "python",
   "name": "python3"
  },
  "language_info": {
   "codemirror_mode": {
    "name": "ipython",
    "version": 3
   },
   "file_extension": ".py",
   "mimetype": "text/x-python",
   "name": "python",
   "nbconvert_exporter": "python",
   "pygments_lexer": "ipython3",
   "version": "3.6.5"
  }
 },
 "nbformat": 4,
 "nbformat_minor": 2
}
