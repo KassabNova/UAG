{
 "cells": [
  {
   "cell_type": "markdown",
   "metadata": {},
   "source": [
    " <h3 style = \"text-align:left\">Part C: Finding the right amount to save away</h3>\n",
    "    <p style= \"text-align:justify\">In Part B, you had a chance to explore how both \n",
    "    the percentage of your salary that you save each month and your annual raise affect \n",
    "    how long it takes you to save for a down payment. This is nice, but suppose you want \n",
    "    to set a particular goal, e.g. to be able to afford the down payment in three years. \n",
    "    How much should you save each month to achieve this? In this problem, you are going to \n",
    "    write a program to answer that question. To simplify things, assume:\n",
    "    1.Your semiannual raise is .07 (7%) \n",
    "    2.Your investments have an annual return of 0.04 (4%) \n",
    "    3.The down payment is 0.25 (25%) of the cost of the house \n",
    "    4.The cost of the house that you are saving for is $1M . \n",
    "    You are now going to try to find the best rate of savings to achieve a down payment on\n",
    "    a $1M house in 36 months. Since hitting this exactly is a challenge, we simply want \n",
    "    your savings to be within $100 of the required down payment.</p>\n",
    "</body>"
   ]
  },
  {
   "cell_type": "markdown",
   "metadata": {},
   "source": []
  }
 ],
 "metadata": {
  "kernelspec": {
   "display_name": "Python 3",
   "language": "python",
   "name": "python3"
  },
  "language_info": {
   "codemirror_mode": {
    "name": "ipython",
    "version": 3
   },
   "file_extension": ".py",
   "mimetype": "text/x-python",
   "name": "python",
   "nbconvert_exporter": "python",
   "pygments_lexer": "ipython3",
   "version": "3.6.5"
  }
 },
 "nbformat": 4,
 "nbformat_minor": 2
}
